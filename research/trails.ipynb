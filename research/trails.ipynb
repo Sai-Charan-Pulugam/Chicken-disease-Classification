{
 "cells": [
  {
   "cell_type": "code",
   "execution_count": null,
   "metadata": {},
   "outputs": [],
   "source": [
    "import cnnClassifier"
   ]
  },
  {
   "cell_type": "code",
   "execution_count": 1,
   "metadata": {},
   "outputs": [],
   "source": [
    "dict1={\"key1\":\"value1\",\"key2\":\"value2\"}"
   ]
  },
  {
   "cell_type": "code",
   "execution_count": 2,
   "metadata": {},
   "outputs": [
    {
     "ename": "AttributeError",
     "evalue": "'dict' object has no attribute 'key1'",
     "output_type": "error",
     "traceback": [
      "\u001b[1;31m---------------------------------------------------------------------------\u001b[0m",
      "\u001b[1;31mAttributeError\u001b[0m                            Traceback (most recent call last)",
      "Cell \u001b[1;32mIn[2], line 1\u001b[0m\n\u001b[1;32m----> 1\u001b[0m dict1\u001b[38;5;241m.\u001b[39mkey1\n",
      "\u001b[1;31mAttributeError\u001b[0m: 'dict' object has no attribute 'key1'"
     ]
    }
   ],
   "source": [
    "dict1.key1"
   ]
  },
  {
   "cell_type": "code",
   "execution_count": 3,
   "metadata": {},
   "outputs": [],
   "source": [
    "from box import ConfigBox"
   ]
  },
  {
   "cell_type": "code",
   "execution_count": 5,
   "metadata": {},
   "outputs": [],
   "source": [
    "dict2 = ConfigBox({\"key1\":\"value1\",\"key2\":\"value2\"})"
   ]
  },
  {
   "cell_type": "code",
   "execution_count": 6,
   "metadata": {},
   "outputs": [
    {
     "data": {
      "text/plain": [
       "'value1'"
      ]
     },
     "execution_count": 6,
     "metadata": {},
     "output_type": "execute_result"
    }
   ],
   "source": [
    "dict2.key1"
   ]
  },
  {
   "cell_type": "code",
   "execution_count": 11,
   "metadata": {},
   "outputs": [],
   "source": [
    "def get_product(x:int,y:int)->int :\n",
    "    return x*y"
   ]
  },
  {
   "cell_type": "code",
   "execution_count": 12,
   "metadata": {},
   "outputs": [
    {
     "data": {
      "text/plain": [
       "25"
      ]
     },
     "execution_count": 12,
     "metadata": {},
     "output_type": "execute_result"
    }
   ],
   "source": [
    "get_product(5,5)"
   ]
  },
  {
   "cell_type": "code",
   "execution_count": 13,
   "metadata": {},
   "outputs": [
    {
     "data": {
      "text/plain": [
       "'55555'"
      ]
     },
     "execution_count": 13,
     "metadata": {},
     "output_type": "execute_result"
    }
   ],
   "source": [
    "get_product(5,\"5\")"
   ]
  },
  {
   "cell_type": "code",
   "execution_count": 17,
   "metadata": {},
   "outputs": [
    {
     "name": "stdout",
     "output_type": "stream",
     "text": [
      "Requirement already satisfied: ensure in c:\\users\\chara\\anaconda3\\lib\\site-packages (1.0.2)\n",
      "Collecting ensure\n",
      "  Using cached ensure-1.0.4-py3-none-any.whl.metadata (10 kB)\n",
      "Requirement already satisfied: six>=1.11.0 in c:\\users\\chara\\anaconda3\\lib\\site-packages (from ensure) (1.16.0)\n",
      "Using cached ensure-1.0.4-py3-none-any.whl (15 kB)\n",
      "Installing collected packages: ensure\n",
      "  Attempting uninstall: ensure\n",
      "    Found existing installation: ensure 1.0.2\n",
      "    Uninstalling ensure-1.0.2:\n",
      "      Successfully uninstalled ensure-1.0.2\n",
      "Successfully installed ensure-1.0.4\n",
      "Note: you may need to restart the kernel to use updated packages.\n"
     ]
    }
   ],
   "source": [
    "pip install ensure --upgrade\n"
   ]
  },
  {
   "cell_type": "code",
   "execution_count": 18,
   "metadata": {},
   "outputs": [],
   "source": [
    "from ensure import ensure_annotations\n"
   ]
  },
  {
   "cell_type": "code",
   "execution_count": 19,
   "metadata": {},
   "outputs": [],
   "source": [
    "@ensure_annotations\n",
    "def get_product(x:int,y:int)->int :\n",
    "    return x*y"
   ]
  },
  {
   "cell_type": "code",
   "execution_count": 20,
   "metadata": {},
   "outputs": [
    {
     "data": {
      "text/plain": [
       "16"
      ]
     },
     "execution_count": 20,
     "metadata": {},
     "output_type": "execute_result"
    }
   ],
   "source": [
    "get_product(4,4)"
   ]
  },
  {
   "cell_type": "code",
   "execution_count": 21,
   "metadata": {},
   "outputs": [
    {
     "ename": "EnsureError",
     "evalue": "Argument y of type <class 'str'> to <function get_product at 0x00000225D8E47E20> does not match annotation type <class 'int'>",
     "output_type": "error",
     "traceback": [
      "\u001b[1;31m---------------------------------------------------------------------------\u001b[0m",
      "\u001b[1;31mEnsureError\u001b[0m                               Traceback (most recent call last)",
      "Cell \u001b[1;32mIn[21], line 1\u001b[0m\n\u001b[1;32m----> 1\u001b[0m get_product(\u001b[38;5;241m4\u001b[39m,\u001b[38;5;124m\"\u001b[39m\u001b[38;5;124m4\u001b[39m\u001b[38;5;124m\"\u001b[39m)\n",
      "File \u001b[1;32mc:\\Users\\chara\\anaconda3\\Lib\\site-packages\\ensure\\main.py:870\u001b[0m, in \u001b[0;36m__call__\u001b[1;34m(self, *args, **kwargs)\u001b[0m\n\u001b[0;32m    861\u001b[0m \u001b[38;5;28;01mdef\u001b[39;00m \u001b[38;5;21mensure_annotations\u001b[39m(f):\n\u001b[0;32m    862\u001b[0m \u001b[38;5;250m    \u001b[39m\u001b[38;5;124;03m\"\"\"\u001b[39;00m\n\u001b[0;32m    863\u001b[0m \u001b[38;5;124;03m    Decorator to be used on functions with annotations. Runs type checks to enforce annotations. Raises\u001b[39;00m\n\u001b[0;32m    864\u001b[0m \u001b[38;5;124;03m    :class:`EnsureError` if any argument passed to *f* is not of the type specified by the annotation. Also raises\u001b[39;00m\n\u001b[0;32m    865\u001b[0m \u001b[38;5;124;03m    :class:`EnsureError` if the return value of *f* is not of the type specified by the annotation. Examples:\u001b[39;00m\n\u001b[0;32m    866\u001b[0m \n\u001b[0;32m    867\u001b[0m \u001b[38;5;124;03m    .. code-block:: python\u001b[39;00m\n\u001b[0;32m    868\u001b[0m \n\u001b[0;32m    869\u001b[0m \u001b[38;5;124;03m        from ensure import ensure_annotations\u001b[39;00m\n\u001b[1;32m--> 870\u001b[0m \n\u001b[0;32m    871\u001b[0m \u001b[38;5;124;03m        @ensure_annotations\u001b[39;00m\n\u001b[0;32m    872\u001b[0m \u001b[38;5;124;03m        def f(x: int, y: float) -> float:\u001b[39;00m\n\u001b[0;32m    873\u001b[0m \u001b[38;5;124;03m            return x+y\u001b[39;00m\n\u001b[0;32m    874\u001b[0m \n\u001b[0;32m    875\u001b[0m \u001b[38;5;124;03m        print(f(1, y=2.2))\u001b[39;00m\n\u001b[0;32m    876\u001b[0m \n\u001b[0;32m    877\u001b[0m \u001b[38;5;124;03m        >>> 3.2\u001b[39;00m\n\u001b[0;32m    878\u001b[0m \n\u001b[0;32m    879\u001b[0m \u001b[38;5;124;03m        print(f(1, y=2))\u001b[39;00m\n\u001b[0;32m    880\u001b[0m \n\u001b[0;32m    881\u001b[0m \u001b[38;5;124;03m        >>> ensure.EnsureError: Argument y of type <class 'int'> to\u001b[39;00m\n\u001b[0;32m    882\u001b[0m \u001b[38;5;124;03m        <function f at 0x109b7c710> does not match annotation type <class 'float'>\u001b[39;00m\n\u001b[0;32m    883\u001b[0m \n\u001b[0;32m    884\u001b[0m \u001b[38;5;124;03m    .. warning::\u001b[39;00m\n\u001b[0;32m    885\u001b[0m \n\u001b[0;32m    886\u001b[0m \u001b[38;5;124;03m       The current implementation of the decorator might trigger\u001b[39;00m\n\u001b[0;32m    887\u001b[0m \u001b[38;5;124;03m       a ``_pickle.PicklingError`` when a decorated function is run through\u001b[39;00m\n\u001b[0;32m    888\u001b[0m \u001b[38;5;124;03m       ``multiprocessing``.\u001b[39;00m\n\u001b[0;32m    889\u001b[0m \u001b[38;5;124;03m    \"\"\"\u001b[39;00m\n\u001b[0;32m    891\u001b[0m     \u001b[38;5;28;01mif\u001b[39;00m f\u001b[38;5;241m.\u001b[39m\u001b[38;5;18m__defaults__\u001b[39m:\n\u001b[0;32m    892\u001b[0m         \u001b[38;5;28;01mfor\u001b[39;00m rpos, value \u001b[38;5;129;01min\u001b[39;00m \u001b[38;5;28menumerate\u001b[39m(f\u001b[38;5;241m.\u001b[39m\u001b[38;5;18m__defaults__\u001b[39m):\n",
      "\u001b[1;31mEnsureError\u001b[0m: Argument y of type <class 'str'> to <function get_product at 0x00000225D8E47E20> does not match annotation type <class 'int'>"
     ]
    }
   ],
   "source": [
    "get_product(4,\"4\")"
   ]
  },
  {
   "cell_type": "code",
   "execution_count": null,
   "metadata": {},
   "outputs": [],
   "source": []
  }
 ],
 "metadata": {
  "kernelspec": {
   "display_name": "base",
   "language": "python",
   "name": "python3"
  },
  "language_info": {
   "codemirror_mode": {
    "name": "ipython",
    "version": 3
   },
   "file_extension": ".py",
   "mimetype": "text/x-python",
   "name": "python",
   "nbconvert_exporter": "python",
   "pygments_lexer": "ipython3",
   "version": "3.12.4"
  }
 },
 "nbformat": 4,
 "nbformat_minor": 2
}
